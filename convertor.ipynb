{
 "cells": [
  {
   "cell_type": "code",
   "execution_count": 4,
   "id": "db6e4f63",
   "metadata": {},
   "outputs": [
    {
     "name": "stderr",
     "output_type": "stream",
     "text": [
      "[NbConvertApp] Converting notebook 2020_Final_DC_vs_MI.ipynb to html\n",
      "[NbConvertApp] WARNING | Alternative text is missing on 9 image(s).\n",
      "[NbConvertApp] Writing 1106392 bytes to 2020_Final_DC_vs_MI.html\n"
     ]
    }
   ],
   "source": [
    "import nbconvert\n",
    "!jupyter nbconvert --to html 2020_Final_DC_vs_MI.ipynb"
   ]
  },
  {
   "cell_type": "code",
   "execution_count": 5,
   "id": "b91d255a",
   "metadata": {},
   "outputs": [
    {
     "name": "stderr",
     "output_type": "stream",
     "text": [
      "[NbConvertApp] Converting notebook 2021_Final_CSK_vs_KKR.ipynb to html\n",
      "[NbConvertApp] WARNING | Alternative text is missing on 9 image(s).\n",
      "[NbConvertApp] Writing 1042163 bytes to 2021_Final_CSK_vs_KKR.html\n"
     ]
    }
   ],
   "source": [
    "!jupyter nbconvert --to html 2021_Final_CSK_vs_KKR.ipynb"
   ]
  },
  {
   "cell_type": "code",
   "execution_count": 6,
   "id": "603621c9",
   "metadata": {},
   "outputs": [
    {
     "name": "stderr",
     "output_type": "stream",
     "text": [
      "[NbConvertApp] Converting notebook 2022_Final_GT_vs_RR.ipynb to html\n",
      "[NbConvertApp] WARNING | Alternative text is missing on 9 image(s).\n",
      "[NbConvertApp] Writing 1101259 bytes to 2022_Final_GT_vs_RR.html\n"
     ]
    }
   ],
   "source": [
    "!jupyter nbconvert --to html 2022_Final_GT_vs_RR.ipynb"
   ]
  },
  {
   "cell_type": "code",
   "execution_count": 7,
   "id": "4095ceb5",
   "metadata": {},
   "outputs": [
    {
     "name": "stderr",
     "output_type": "stream",
     "text": [
      "[NbConvertApp] Converting notebook 2023_Final_GT_vs_CSK.ipynb to html\n",
      "[NbConvertApp] WARNING | Alternative text is missing on 9 image(s).\n",
      "[NbConvertApp] Writing 1084957 bytes to 2023_Final_GT_vs_CSK.html\n"
     ]
    }
   ],
   "source": [
    "!jupyter nbconvert --to html 2023_Final_GT_vs_CSK.ipynb"
   ]
  },
  {
   "cell_type": "code",
   "execution_count": 8,
   "id": "5db9f0a6",
   "metadata": {},
   "outputs": [
    {
     "name": "stderr",
     "output_type": "stream",
     "text": [
      "[NbConvertApp] Converting notebook 2024_Final_KKR_vs_SRH.ipynb to html\n",
      "[NbConvertApp] WARNING | Alternative text is missing on 9 image(s).\n",
      "[NbConvertApp] Writing 1040038 bytes to 2024_Final_KKR_vs_SRH.html\n"
     ]
    }
   ],
   "source": [
    "!jupyter nbconvert --to html 2024_Final_KKR_vs_SRH.ipynb"
   ]
  },
  {
   "cell_type": "code",
   "execution_count": 9,
   "id": "f0dac660",
   "metadata": {},
   "outputs": [
    {
     "name": "stderr",
     "output_type": "stream",
     "text": [
      "[NbConvertApp] Converting notebook 2025_Final_RCB_vs_PBKS.ipynb to html\n",
      "[NbConvertApp] WARNING | Alternative text is missing on 9 image(s).\n",
      "[NbConvertApp] Writing 1133452 bytes to 2025_Final_RCB_vs_PBKS.html\n"
     ]
    }
   ],
   "source": [
    "!jupyter nbconvert --to html 2025_Final_RCB_vs_PBKS.ipynb"
   ]
  }
 ],
 "metadata": {
  "kernelspec": {
   "display_name": "Python 3",
   "language": "python",
   "name": "python3"
  },
  "language_info": {
   "codemirror_mode": {
    "name": "ipython",
    "version": 3
   },
   "file_extension": ".py",
   "mimetype": "text/x-python",
   "name": "python",
   "nbconvert_exporter": "python",
   "pygments_lexer": "ipython3",
   "version": "3.12.4"
  }
 },
 "nbformat": 4,
 "nbformat_minor": 5
}
